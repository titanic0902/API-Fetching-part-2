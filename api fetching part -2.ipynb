{
 "cells": [
  {
   "cell_type": "code",
   "execution_count": 2,
   "id": "4fbdf8be",
   "metadata": {},
   "outputs": [
    {
     "name": "stdout",
     "output_type": "stream",
     "text": [
      "<class 'dict'>\n"
     ]
    }
   ],
   "source": [
    "import requests\n",
    "p=requests.get( 'https://dog.ceo/api/breeds/list/all')\n",
    "python_data=p.json()\n",
    "print(type(python_data))"
   ]
  },
  {
   "cell_type": "code",
   "execution_count": 3,
   "id": "fb78ceac",
   "metadata": {},
   "outputs": [
    {
     "name": "stdout",
     "output_type": "stream",
     "text": [
      "affenpinscher : 0\n",
      "african : 0\n",
      "airedale : 0\n",
      "akita : 0\n",
      "appenzeller : 0\n",
      "australian : 1\n",
      "basenji : 0\n",
      "beagle : 0\n",
      "bluetick : 0\n",
      "borzoi : 0\n",
      "bouvier : 0\n",
      "boxer : 0\n",
      "brabancon : 0\n",
      "briard : 0\n",
      "buhund : 1\n",
      "bulldog : 3\n",
      "bullterrier : 1\n",
      "cattledog : 1\n",
      "cavapoo : 0\n",
      "chihuahua : 0\n",
      "chow : 0\n",
      "clumber : 0\n",
      "cockapoo : 0\n",
      "collie : 1\n",
      "coonhound : 0\n",
      "corgi : 1\n",
      "cotondetulear : 0\n",
      "dachshund : 0\n",
      "dalmatian : 0\n",
      "dane : 1\n",
      "deerhound : 1\n",
      "dhole : 0\n",
      "dingo : 0\n",
      "doberman : 0\n",
      "elkhound : 1\n",
      "entlebucher : 0\n",
      "eskimo : 0\n",
      "finnish : 1\n",
      "frise : 1\n",
      "germanshepherd : 0\n",
      "greyhound : 1\n",
      "groenendael : 0\n",
      "havanese : 0\n",
      "hound : 7\n",
      "husky : 0\n",
      "keeshond : 0\n",
      "kelpie : 0\n",
      "komondor : 0\n",
      "kuvasz : 0\n",
      "labradoodle : 0\n",
      "labrador : 0\n",
      "leonberg : 0\n",
      "lhasa : 0\n",
      "malamute : 0\n",
      "malinois : 0\n",
      "maltese : 0\n",
      "mastiff : 3\n",
      "mexicanhairless : 0\n",
      "mix : 0\n",
      "mountain : 2\n",
      "newfoundland : 0\n",
      "otterhound : 0\n",
      "ovcharka : 1\n",
      "papillon : 0\n",
      "pekinese : 0\n",
      "pembroke : 0\n",
      "pinscher : 1\n",
      "pitbull : 0\n",
      "pointer : 2\n",
      "pomeranian : 0\n",
      "poodle : 4\n",
      "pug : 0\n",
      "puggle : 0\n",
      "pyrenees : 0\n",
      "redbone : 0\n",
      "retriever : 4\n",
      "ridgeback : 1\n",
      "rottweiler : 0\n",
      "saluki : 0\n",
      "samoyed : 0\n",
      "schipperke : 0\n",
      "schnauzer : 2\n",
      "segugio : 1\n",
      "setter : 3\n",
      "sharpei : 0\n",
      "sheepdog : 2\n",
      "shiba : 0\n",
      "shihtzu : 0\n",
      "spaniel : 7\n",
      "spitz : 1\n",
      "springer : 1\n",
      "stbernard : 0\n",
      "terrier : 23\n",
      "tervuren : 0\n",
      "vizsla : 0\n",
      "waterdog : 1\n",
      "weimaraner : 0\n",
      "whippet : 0\n",
      "wolfhound : 1\n"
     ]
    }
   ],
   "source": [
    "for key , val in python_data['message'].items():\n",
    "    print(key,\":\",len(val))\n",
    "    "
   ]
  },
  {
   "cell_type": "code",
   "execution_count": 4,
   "id": "cd878f48",
   "metadata": {},
   "outputs": [
    {
     "name": "stdout",
     "output_type": "stream",
     "text": [
      "blenheim\n",
      "brittany\n",
      "cocker\n",
      "irish\n",
      "japanese\n",
      "sussex\n",
      "welsh\n"
     ]
    }
   ],
   "source": [
    "for i in python_data['message']['spaniel']:\n",
    "    print(i)"
   ]
  },
  {
   "cell_type": "code",
   "execution_count": 5,
   "id": "29e2e99e",
   "metadata": {},
   "outputs": [
    {
     "name": "stdout",
     "output_type": "stream",
     "text": [
      "afghan\n",
      "basset\n",
      "blood\n",
      "english\n",
      "ibizan\n",
      "plott\n",
      "walker\n"
     ]
    }
   ],
   "source": [
    "for i in python_data['message']['hound']:\n",
    "    print(i)"
   ]
  },
  {
   "cell_type": "code",
   "execution_count": 6,
   "id": "da169b8e",
   "metadata": {},
   "outputs": [
    {
     "name": "stdout",
     "output_type": "stream",
     "text": [
      "7\n"
     ]
    }
   ],
   "source": [
    "print(len( python_data['message']['hound']))"
   ]
  },
  {
   "cell_type": "code",
   "execution_count": null,
   "id": "18ac220e",
   "metadata": {},
   "outputs": [],
   "source": []
  },
  {
   "cell_type": "code",
   "execution_count": null,
   "id": "b0c9c6a0",
   "metadata": {},
   "outputs": [],
   "source": []
  }
 ],
 "metadata": {
  "kernelspec": {
   "display_name": "Python 3 (ipykernel)",
   "language": "python",
   "name": "python3"
  },
  "language_info": {
   "codemirror_mode": {
    "name": "ipython",
    "version": 3
   },
   "file_extension": ".py",
   "mimetype": "text/x-python",
   "name": "python",
   "nbconvert_exporter": "python",
   "pygments_lexer": "ipython3",
   "version": "3.10.9"
  }
 },
 "nbformat": 4,
 "nbformat_minor": 5
}
